{
  "nbformat": 4,
  "nbformat_minor": 0,
  "metadata": {
    "colab": {
      "name": "12520565.ipynb",
      "provenance": [],
      "authorship_tag": "ABX9TyOXgyRc9dDowSxG0i40kqCx",
      "include_colab_link": true
    },
    "kernelspec": {
      "name": "python3",
      "display_name": "Python 3"
    }
  },
  "cells": [
    {
      "cell_type": "markdown",
      "metadata": {
        "id": "view-in-github",
        "colab_type": "text"
      },
      "source": [
        "<a href=\"https://colab.research.google.com/github/NguyenTrongNgoVietDu/CS114.K21/blob/master/12520565.ipynb\" target=\"_parent\"><img src=\"https://colab.research.google.com/assets/colab-badge.svg\" alt=\"Open In Colab\"/></a>"
      ]
    },
    {
      "cell_type": "code",
      "metadata": {
        "id": "7ASGd0FyvifC",
        "colab_type": "code",
        "outputId": "a6105961-a8ce-4014-cf1c-fe12b664e5d3",
        "colab": {
          "base_uri": "https://localhost:8080/",
          "height": 204
        }
      },
      "source": [
        "#lay file mang ve\n",
        "!wget http://cs.uit.edu.vn/data2.txt"
      ],
      "execution_count": 0,
      "outputs": [
        {
          "output_type": "stream",
          "text": [
            "--2020-06-12 08:59:51--  http://cs.uit.edu.vn/data2.txt\n",
            "Resolving cs.uit.edu.vn (cs.uit.edu.vn)... 118.69.123.142\n",
            "Connecting to cs.uit.edu.vn (cs.uit.edu.vn)|118.69.123.142|:80... connected.\n",
            "HTTP request sent, awaiting response... 200 OK\n",
            "Length: 1203726 (1.1M) [text/plain]\n",
            "Saving to: ‘data2.txt’\n",
            "\n",
            "data2.txt           100%[===================>]   1.15M   878KB/s    in 1.3s    \n",
            "\n",
            "2020-06-12 08:59:53 (878 KB/s) - ‘data2.txt’ saved [1203726/1203726]\n",
            "\n"
          ],
          "name": "stdout"
        }
      ]
    }
  ]
}